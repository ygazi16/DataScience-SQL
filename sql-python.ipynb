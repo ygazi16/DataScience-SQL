{
 "cells": [
  {
   "cell_type": "markdown",
   "metadata": {},
   "source": [
    "## Mysql-Python Connection"
   ]
  },
  {
   "cell_type": "code",
   "execution_count": 1,
   "metadata": {},
   "outputs": [],
   "source": [
    "import mysql.connector\n",
    "import pandas as pd\n",
    "\n",
    "import matplotlib.pyplot as plt\n",
    "import seaborn as sns\n",
    "import csv\n",
    "\n",
    "%matplotlib inline"
   ]
  },
  {
   "cell_type": "code",
   "execution_count": 2,
   "metadata": {},
   "outputs": [
    {
     "name": "stdout",
     "output_type": "stream",
     "text": [
      "<mysql.connector.connection_cext.CMySQLConnection object at 0x7f97004bdac0>\n"
     ]
    }
   ],
   "source": [
    "db_connection = mysql.connector.connect(\n",
    "  host=\"localhost\",\n",
    "  user=\"root\",\n",
    "  passwd=\"Atayarkin2003!\"\n",
    ")\n",
    "print(db_connection)"
   ]
  },
  {
   "cell_type": "markdown",
   "metadata": {},
   "source": [
    "### Create Database"
   ]
  },
  {
   "cell_type": "code",
   "execution_count": 3,
   "metadata": {},
   "outputs": [],
   "source": [
    "# creating database_cursor to perform SQL operation\n",
    "db_cursor = db_connection.cursor(buffered=True)"
   ]
  },
  {
   "cell_type": "code",
   "execution_count": 4,
   "metadata": {},
   "outputs": [
    {
     "ename": "DatabaseError",
     "evalue": "1007 (HY000): Can't create database 'ps_ecommerce'; database exists",
     "output_type": "error",
     "traceback": [
      "\u001b[0;31m---------------------------------------------------------------------------\u001b[0m",
      "\u001b[0;31mMySQLInterfaceError\u001b[0m                       Traceback (most recent call last)",
      "\u001b[0;32m~/opt/anaconda3/lib/python3.8/site-packages/mysql/connector/connection_cext.py\u001b[0m in \u001b[0;36mcmd_query\u001b[0;34m(self, query, raw, buffered, raw_as_string)\u001b[0m\n\u001b[1;32m    506\u001b[0m                 \u001b[0mquery\u001b[0m \u001b[0;34m=\u001b[0m \u001b[0mquery\u001b[0m\u001b[0;34m.\u001b[0m\u001b[0mencode\u001b[0m\u001b[0;34m(\u001b[0m\u001b[0;34m'utf-8'\u001b[0m\u001b[0;34m)\u001b[0m\u001b[0;34m\u001b[0m\u001b[0;34m\u001b[0m\u001b[0m\n\u001b[0;32m--> 507\u001b[0;31m             self._cmysql.query(query,\n\u001b[0m\u001b[1;32m    508\u001b[0m                                \u001b[0mraw\u001b[0m\u001b[0;34m=\u001b[0m\u001b[0mraw\u001b[0m\u001b[0;34m,\u001b[0m \u001b[0mbuffered\u001b[0m\u001b[0;34m=\u001b[0m\u001b[0mbuffered\u001b[0m\u001b[0;34m,\u001b[0m\u001b[0;34m\u001b[0m\u001b[0;34m\u001b[0m\u001b[0m\n",
      "\u001b[0;31mMySQLInterfaceError\u001b[0m: Can't create database 'ps_ecommerce'; database exists",
      "\nDuring handling of the above exception, another exception occurred:\n",
      "\u001b[0;31mDatabaseError\u001b[0m                             Traceback (most recent call last)",
      "\u001b[0;32m<ipython-input-4-5574896a6a57>\u001b[0m in \u001b[0;36m<module>\u001b[0;34m\u001b[0m\n\u001b[1;32m      1\u001b[0m \u001b[0;31m# executing cursor with execute method and pass SQL query\u001b[0m\u001b[0;34m\u001b[0m\u001b[0;34m\u001b[0m\u001b[0;34m\u001b[0m\u001b[0m\n\u001b[0;32m----> 2\u001b[0;31m \u001b[0mdb_cursor\u001b[0m\u001b[0;34m.\u001b[0m\u001b[0mexecute\u001b[0m\u001b[0;34m(\u001b[0m\u001b[0;34m\"CREATE DATABASE ps_ecommerce\"\u001b[0m\u001b[0;34m)\u001b[0m\u001b[0;34m\u001b[0m\u001b[0;34m\u001b[0m\u001b[0m\n\u001b[0m\u001b[1;32m      3\u001b[0m \u001b[0;34m\u001b[0m\u001b[0m\n\u001b[1;32m      4\u001b[0m \u001b[0;31m# get list of all databases\u001b[0m\u001b[0;34m\u001b[0m\u001b[0;34m\u001b[0m\u001b[0;34m\u001b[0m\u001b[0m\n\u001b[1;32m      5\u001b[0m \u001b[0mdb_cursor\u001b[0m\u001b[0;34m.\u001b[0m\u001b[0mexecute\u001b[0m\u001b[0;34m(\u001b[0m\u001b[0;34m\"SHOW DATABASES\"\u001b[0m\u001b[0;34m)\u001b[0m\u001b[0;34m\u001b[0m\u001b[0;34m\u001b[0m\u001b[0m\n",
      "\u001b[0;32m~/opt/anaconda3/lib/python3.8/site-packages/mysql/connector/cursor_cext.py\u001b[0m in \u001b[0;36mexecute\u001b[0;34m(self, operation, params, multi)\u001b[0m\n\u001b[1;32m    272\u001b[0m \u001b[0;34m\u001b[0m\u001b[0m\n\u001b[1;32m    273\u001b[0m         \u001b[0;32mtry\u001b[0m\u001b[0;34m:\u001b[0m\u001b[0;34m\u001b[0m\u001b[0;34m\u001b[0m\u001b[0m\n\u001b[0;32m--> 274\u001b[0;31m             result = self._cnx.cmd_query(stmt, raw=self._raw,\n\u001b[0m\u001b[1;32m    275\u001b[0m                                          \u001b[0mbuffered\u001b[0m\u001b[0;34m=\u001b[0m\u001b[0mself\u001b[0m\u001b[0;34m.\u001b[0m\u001b[0m_buffered\u001b[0m\u001b[0;34m,\u001b[0m\u001b[0;34m\u001b[0m\u001b[0;34m\u001b[0m\u001b[0m\n\u001b[1;32m    276\u001b[0m                                          raw_as_string=self._raw_as_string)\n",
      "\u001b[0;32m~/opt/anaconda3/lib/python3.8/site-packages/mysql/connector/connection_cext.py\u001b[0m in \u001b[0;36mcmd_query\u001b[0;34m(self, query, raw, buffered, raw_as_string)\u001b[0m\n\u001b[1;32m    509\u001b[0m                                raw_as_string=raw_as_string)\n\u001b[1;32m    510\u001b[0m         \u001b[0;32mexcept\u001b[0m \u001b[0mMySQLInterfaceError\u001b[0m \u001b[0;32mas\u001b[0m \u001b[0mexc\u001b[0m\u001b[0;34m:\u001b[0m\u001b[0;34m\u001b[0m\u001b[0;34m\u001b[0m\u001b[0m\n\u001b[0;32m--> 511\u001b[0;31m             raise errors.get_mysql_exception(exc.errno, msg=exc.msg,\n\u001b[0m\u001b[1;32m    512\u001b[0m                                              sqlstate=exc.sqlstate)\n\u001b[1;32m    513\u001b[0m         \u001b[0;32mexcept\u001b[0m \u001b[0mAttributeError\u001b[0m\u001b[0;34m:\u001b[0m\u001b[0;34m\u001b[0m\u001b[0;34m\u001b[0m\u001b[0m\n",
      "\u001b[0;31mDatabaseError\u001b[0m: 1007 (HY000): Can't create database 'ps_ecommerce'; database exists"
     ]
    }
   ],
   "source": [
    "# executing cursor with execute method and pass SQL query\n",
    "db_cursor.execute(\"CREATE DATABASE ps_ecommerce\")\n",
    "\n",
    "# get list of all databases\n",
    "db_cursor.execute(\"SHOW DATABASES\")\n",
    "\n",
    "# print all databases\n",
    "for db in db_cursor:\n",
    "    print(db)"
   ]
  },
  {
   "cell_type": "code",
   "execution_count": 5,
   "metadata": {},
   "outputs": [],
   "source": [
    "db_cursor.execute(\"USE ps_ecommerce\")"
   ]
  },
  {
   "cell_type": "markdown",
   "metadata": {},
   "source": [
    "### Load Data to Mysql Tables"
   ]
  },
  {
   "cell_type": "code",
   "execution_count": 6,
   "metadata": {},
   "outputs": [],
   "source": [
    "def populate_table(db_connection, db_cursor, insert_query, file_path):\n",
    "    \n",
    "    with open(file_path, mode='r') as csv_data:\n",
    "        reader = csv.reader(csv_data, delimiter=';')\n",
    "        csv_data_list = list(reader)\n",
    "        for row in csv_data_list[1:]:\n",
    "            row = tuple(map(lambda x: None if x == \"\" else x, row[0].split(',')))\n",
    "            db_cursor.execute(insert_query, row)\n",
    "        \n",
    "    db_connection.commit()"
   ]
  },
  {
   "cell_type": "code",
   "execution_count": 7,
   "metadata": {},
   "outputs": [
    {
     "ename": "ProgrammingError",
     "evalue": "1050 (42S01): Table 'customers' already exists",
     "output_type": "error",
     "traceback": [
      "\u001b[0;31m---------------------------------------------------------------------------\u001b[0m",
      "\u001b[0;31mMySQLInterfaceError\u001b[0m                       Traceback (most recent call last)",
      "\u001b[0;32m~/opt/anaconda3/lib/python3.8/site-packages/mysql/connector/connection_cext.py\u001b[0m in \u001b[0;36mcmd_query\u001b[0;34m(self, query, raw, buffered, raw_as_string)\u001b[0m\n\u001b[1;32m    506\u001b[0m                 \u001b[0mquery\u001b[0m \u001b[0;34m=\u001b[0m \u001b[0mquery\u001b[0m\u001b[0;34m.\u001b[0m\u001b[0mencode\u001b[0m\u001b[0;34m(\u001b[0m\u001b[0;34m'utf-8'\u001b[0m\u001b[0;34m)\u001b[0m\u001b[0;34m\u001b[0m\u001b[0;34m\u001b[0m\u001b[0m\n\u001b[0;32m--> 507\u001b[0;31m             self._cmysql.query(query,\n\u001b[0m\u001b[1;32m    508\u001b[0m                                \u001b[0mraw\u001b[0m\u001b[0;34m=\u001b[0m\u001b[0mraw\u001b[0m\u001b[0;34m,\u001b[0m \u001b[0mbuffered\u001b[0m\u001b[0;34m=\u001b[0m\u001b[0mbuffered\u001b[0m\u001b[0;34m,\u001b[0m\u001b[0;34m\u001b[0m\u001b[0;34m\u001b[0m\u001b[0m\n",
      "\u001b[0;31mMySQLInterfaceError\u001b[0m: Table 'customers' already exists",
      "\nDuring handling of the above exception, another exception occurred:\n",
      "\u001b[0;31mProgrammingError\u001b[0m                          Traceback (most recent call last)",
      "\u001b[0;32m<ipython-input-7-7189fc617ca3>\u001b[0m in \u001b[0;36m<module>\u001b[0;34m\u001b[0m\n\u001b[0;32m----> 1\u001b[0;31m db_cursor.execute(\"\"\"CREATE TABLE CUSTOMERS (customer_id VARCHAR(50) NOT NULL, \n\u001b[0m\u001b[1;32m      2\u001b[0m                                           \u001b[0mcustomer_unique_id\u001b[0m \u001b[0mVARCHAR\u001b[0m\u001b[0;34m(\u001b[0m\u001b[0;36m50\u001b[0m\u001b[0;34m)\u001b[0m \u001b[0mNOT\u001b[0m \u001b[0mNULL\u001b[0m\u001b[0;34m,\u001b[0m\u001b[0;34m\u001b[0m\u001b[0;34m\u001b[0m\u001b[0m\n\u001b[1;32m      3\u001b[0m                                           \u001b[0mcustomer_zip_code_prefix\u001b[0m \u001b[0mVARCHAR\u001b[0m\u001b[0;34m(\u001b[0m\u001b[0;36m50\u001b[0m\u001b[0;34m)\u001b[0m\u001b[0;34m,\u001b[0m\u001b[0;34m\u001b[0m\u001b[0;34m\u001b[0m\u001b[0m\n\u001b[1;32m      4\u001b[0m                                           \u001b[0mcustomer_city\u001b[0m \u001b[0mVARCHAR\u001b[0m\u001b[0;34m(\u001b[0m\u001b[0;36m50\u001b[0m\u001b[0;34m)\u001b[0m\u001b[0;34m,\u001b[0m\u001b[0;34m\u001b[0m\u001b[0;34m\u001b[0m\u001b[0m\n\u001b[1;32m      5\u001b[0m                                           customer_state VARCHAR(50))\"\"\")\n",
      "\u001b[0;32m~/opt/anaconda3/lib/python3.8/site-packages/mysql/connector/cursor_cext.py\u001b[0m in \u001b[0;36mexecute\u001b[0;34m(self, operation, params, multi)\u001b[0m\n\u001b[1;32m    272\u001b[0m \u001b[0;34m\u001b[0m\u001b[0m\n\u001b[1;32m    273\u001b[0m         \u001b[0;32mtry\u001b[0m\u001b[0;34m:\u001b[0m\u001b[0;34m\u001b[0m\u001b[0;34m\u001b[0m\u001b[0m\n\u001b[0;32m--> 274\u001b[0;31m             result = self._cnx.cmd_query(stmt, raw=self._raw,\n\u001b[0m\u001b[1;32m    275\u001b[0m                                          \u001b[0mbuffered\u001b[0m\u001b[0;34m=\u001b[0m\u001b[0mself\u001b[0m\u001b[0;34m.\u001b[0m\u001b[0m_buffered\u001b[0m\u001b[0;34m,\u001b[0m\u001b[0;34m\u001b[0m\u001b[0;34m\u001b[0m\u001b[0m\n\u001b[1;32m    276\u001b[0m                                          raw_as_string=self._raw_as_string)\n",
      "\u001b[0;32m~/opt/anaconda3/lib/python3.8/site-packages/mysql/connector/connection_cext.py\u001b[0m in \u001b[0;36mcmd_query\u001b[0;34m(self, query, raw, buffered, raw_as_string)\u001b[0m\n\u001b[1;32m    509\u001b[0m                                raw_as_string=raw_as_string)\n\u001b[1;32m    510\u001b[0m         \u001b[0;32mexcept\u001b[0m \u001b[0mMySQLInterfaceError\u001b[0m \u001b[0;32mas\u001b[0m \u001b[0mexc\u001b[0m\u001b[0;34m:\u001b[0m\u001b[0;34m\u001b[0m\u001b[0;34m\u001b[0m\u001b[0m\n\u001b[0;32m--> 511\u001b[0;31m             raise errors.get_mysql_exception(exc.errno, msg=exc.msg,\n\u001b[0m\u001b[1;32m    512\u001b[0m                                              sqlstate=exc.sqlstate)\n\u001b[1;32m    513\u001b[0m         \u001b[0;32mexcept\u001b[0m \u001b[0mAttributeError\u001b[0m\u001b[0;34m:\u001b[0m\u001b[0;34m\u001b[0m\u001b[0;34m\u001b[0m\u001b[0m\n",
      "\u001b[0;31mProgrammingError\u001b[0m: 1050 (42S01): Table 'customers' already exists"
     ]
    }
   ],
   "source": [
    "db_cursor.execute(\"\"\"CREATE TABLE CUSTOMERS (customer_id VARCHAR(50) NOT NULL, \n",
    "                                          customer_unique_id VARCHAR(50) NOT NULL, \n",
    "                                          customer_zip_code_prefix VARCHAR(50), \n",
    "                                          customer_city VARCHAR(50), \n",
    "                                          customer_state VARCHAR(50))\"\"\")\n",
    "\n",
    "insert_customers = (\n",
    "    \"INSERT INTO CUSTOMERS(customer_id, customer_unique_id, customer_zip_code_prefix, customer_city, customer_state) \"\n",
    "    \"VALUES (%s, %s, %s, %s, %s)\"\n",
    ")\n",
    "\n",
    "populate_table(db_connection, db_cursor, insert_customers, \"data/customers.csv\")"
   ]
  },
  {
   "cell_type": "code",
   "execution_count": 8,
   "metadata": {},
   "outputs": [
    {
     "ename": "ProgrammingError",
     "evalue": "1050 (42S01): Table 'order_payments' already exists",
     "output_type": "error",
     "traceback": [
      "\u001b[0;31m---------------------------------------------------------------------------\u001b[0m",
      "\u001b[0;31mMySQLInterfaceError\u001b[0m                       Traceback (most recent call last)",
      "\u001b[0;32m~/opt/anaconda3/lib/python3.8/site-packages/mysql/connector/connection_cext.py\u001b[0m in \u001b[0;36mcmd_query\u001b[0;34m(self, query, raw, buffered, raw_as_string)\u001b[0m\n\u001b[1;32m    506\u001b[0m                 \u001b[0mquery\u001b[0m \u001b[0;34m=\u001b[0m \u001b[0mquery\u001b[0m\u001b[0;34m.\u001b[0m\u001b[0mencode\u001b[0m\u001b[0;34m(\u001b[0m\u001b[0;34m'utf-8'\u001b[0m\u001b[0;34m)\u001b[0m\u001b[0;34m\u001b[0m\u001b[0;34m\u001b[0m\u001b[0m\n\u001b[0;32m--> 507\u001b[0;31m             self._cmysql.query(query,\n\u001b[0m\u001b[1;32m    508\u001b[0m                                \u001b[0mraw\u001b[0m\u001b[0;34m=\u001b[0m\u001b[0mraw\u001b[0m\u001b[0;34m,\u001b[0m \u001b[0mbuffered\u001b[0m\u001b[0;34m=\u001b[0m\u001b[0mbuffered\u001b[0m\u001b[0;34m,\u001b[0m\u001b[0;34m\u001b[0m\u001b[0;34m\u001b[0m\u001b[0m\n",
      "\u001b[0;31mMySQLInterfaceError\u001b[0m: Table 'order_payments' already exists",
      "\nDuring handling of the above exception, another exception occurred:\n",
      "\u001b[0;31mProgrammingError\u001b[0m                          Traceback (most recent call last)",
      "\u001b[0;32m<ipython-input-8-bead56950932>\u001b[0m in \u001b[0;36m<module>\u001b[0;34m\u001b[0m\n\u001b[0;32m----> 1\u001b[0;31m db_cursor.execute(\"\"\"CREATE TABLE ORDER_PAYMENTS (order_id VARCHAR(50) NOT NULL, \n\u001b[0m\u001b[1;32m      2\u001b[0m                                           \u001b[0mpayment_sequential\u001b[0m \u001b[0mINTEGER\u001b[0m\u001b[0;34m,\u001b[0m\u001b[0;34m\u001b[0m\u001b[0;34m\u001b[0m\u001b[0m\n\u001b[1;32m      3\u001b[0m                                           \u001b[0mpayment_type\u001b[0m \u001b[0mVARCHAR\u001b[0m\u001b[0;34m(\u001b[0m\u001b[0;36m50\u001b[0m\u001b[0;34m)\u001b[0m\u001b[0;34m,\u001b[0m\u001b[0;34m\u001b[0m\u001b[0;34m\u001b[0m\u001b[0m\n\u001b[1;32m      4\u001b[0m                                           \u001b[0mpayment_installments\u001b[0m \u001b[0mINTEGER\u001b[0m\u001b[0;34m,\u001b[0m\u001b[0;34m\u001b[0m\u001b[0;34m\u001b[0m\u001b[0m\n\u001b[1;32m      5\u001b[0m                                           payment_value FLOAT)\"\"\")\n",
      "\u001b[0;32m~/opt/anaconda3/lib/python3.8/site-packages/mysql/connector/cursor_cext.py\u001b[0m in \u001b[0;36mexecute\u001b[0;34m(self, operation, params, multi)\u001b[0m\n\u001b[1;32m    272\u001b[0m \u001b[0;34m\u001b[0m\u001b[0m\n\u001b[1;32m    273\u001b[0m         \u001b[0;32mtry\u001b[0m\u001b[0;34m:\u001b[0m\u001b[0;34m\u001b[0m\u001b[0;34m\u001b[0m\u001b[0m\n\u001b[0;32m--> 274\u001b[0;31m             result = self._cnx.cmd_query(stmt, raw=self._raw,\n\u001b[0m\u001b[1;32m    275\u001b[0m                                          \u001b[0mbuffered\u001b[0m\u001b[0;34m=\u001b[0m\u001b[0mself\u001b[0m\u001b[0;34m.\u001b[0m\u001b[0m_buffered\u001b[0m\u001b[0;34m,\u001b[0m\u001b[0;34m\u001b[0m\u001b[0;34m\u001b[0m\u001b[0m\n\u001b[1;32m    276\u001b[0m                                          raw_as_string=self._raw_as_string)\n",
      "\u001b[0;32m~/opt/anaconda3/lib/python3.8/site-packages/mysql/connector/connection_cext.py\u001b[0m in \u001b[0;36mcmd_query\u001b[0;34m(self, query, raw, buffered, raw_as_string)\u001b[0m\n\u001b[1;32m    509\u001b[0m                                raw_as_string=raw_as_string)\n\u001b[1;32m    510\u001b[0m         \u001b[0;32mexcept\u001b[0m \u001b[0mMySQLInterfaceError\u001b[0m \u001b[0;32mas\u001b[0m \u001b[0mexc\u001b[0m\u001b[0;34m:\u001b[0m\u001b[0;34m\u001b[0m\u001b[0;34m\u001b[0m\u001b[0m\n\u001b[0;32m--> 511\u001b[0;31m             raise errors.get_mysql_exception(exc.errno, msg=exc.msg,\n\u001b[0m\u001b[1;32m    512\u001b[0m                                              sqlstate=exc.sqlstate)\n\u001b[1;32m    513\u001b[0m         \u001b[0;32mexcept\u001b[0m \u001b[0mAttributeError\u001b[0m\u001b[0;34m:\u001b[0m\u001b[0;34m\u001b[0m\u001b[0;34m\u001b[0m\u001b[0m\n",
      "\u001b[0;31mProgrammingError\u001b[0m: 1050 (42S01): Table 'order_payments' already exists"
     ]
    }
   ],
   "source": [
    "db_cursor.execute(\"\"\"CREATE TABLE ORDER_PAYMENTS (order_id VARCHAR(50) NOT NULL, \n",
    "                                          payment_sequential INTEGER, \n",
    "                                          payment_type VARCHAR(50), \n",
    "                                          payment_installments INTEGER, \n",
    "                                          payment_value FLOAT)\"\"\")\n",
    "\n",
    "insert_orderpayments = (\n",
    "    \"INSERT INTO ORDER_PAYMENTS(order_id, payment_sequential, payment_type, payment_installments, payment_value) \"\n",
    "    \"VALUES (%s, %s, %s, %s, %s)\"\n",
    ")\n",
    "\n",
    "populate_table(db_connection, db_cursor, insert_orderpayments, \"data/order_payments.csv\")"
   ]
  },
  {
   "cell_type": "code",
   "execution_count": 9,
   "metadata": {},
   "outputs": [
    {
     "ename": "ProgrammingError",
     "evalue": "1050 (42S01): Table 'order_items' already exists",
     "output_type": "error",
     "traceback": [
      "\u001b[0;31m---------------------------------------------------------------------------\u001b[0m",
      "\u001b[0;31mMySQLInterfaceError\u001b[0m                       Traceback (most recent call last)",
      "\u001b[0;32m~/opt/anaconda3/lib/python3.8/site-packages/mysql/connector/connection_cext.py\u001b[0m in \u001b[0;36mcmd_query\u001b[0;34m(self, query, raw, buffered, raw_as_string)\u001b[0m\n\u001b[1;32m    506\u001b[0m                 \u001b[0mquery\u001b[0m \u001b[0;34m=\u001b[0m \u001b[0mquery\u001b[0m\u001b[0;34m.\u001b[0m\u001b[0mencode\u001b[0m\u001b[0;34m(\u001b[0m\u001b[0;34m'utf-8'\u001b[0m\u001b[0;34m)\u001b[0m\u001b[0;34m\u001b[0m\u001b[0;34m\u001b[0m\u001b[0m\n\u001b[0;32m--> 507\u001b[0;31m             self._cmysql.query(query,\n\u001b[0m\u001b[1;32m    508\u001b[0m                                \u001b[0mraw\u001b[0m\u001b[0;34m=\u001b[0m\u001b[0mraw\u001b[0m\u001b[0;34m,\u001b[0m \u001b[0mbuffered\u001b[0m\u001b[0;34m=\u001b[0m\u001b[0mbuffered\u001b[0m\u001b[0;34m,\u001b[0m\u001b[0;34m\u001b[0m\u001b[0;34m\u001b[0m\u001b[0m\n",
      "\u001b[0;31mMySQLInterfaceError\u001b[0m: Table 'order_items' already exists",
      "\nDuring handling of the above exception, another exception occurred:\n",
      "\u001b[0;31mProgrammingError\u001b[0m                          Traceback (most recent call last)",
      "\u001b[0;32m<ipython-input-9-e90f374f35e3>\u001b[0m in \u001b[0;36m<module>\u001b[0;34m\u001b[0m\n\u001b[0;32m----> 1\u001b[0;31m db_cursor.execute(\"\"\"CREATE TABLE ORDER_ITEMS (order_id VARCHAR(50) NOT NULL, \n\u001b[0m\u001b[1;32m      2\u001b[0m                                           \u001b[0morder_item_id\u001b[0m \u001b[0mINTEGER\u001b[0m\u001b[0;34m,\u001b[0m\u001b[0;34m\u001b[0m\u001b[0;34m\u001b[0m\u001b[0m\n\u001b[1;32m      3\u001b[0m                                           \u001b[0mproduct_id\u001b[0m \u001b[0mVARCHAR\u001b[0m\u001b[0;34m(\u001b[0m\u001b[0;36m50\u001b[0m\u001b[0;34m)\u001b[0m\u001b[0;34m,\u001b[0m\u001b[0;34m\u001b[0m\u001b[0;34m\u001b[0m\u001b[0m\n\u001b[1;32m      4\u001b[0m                                           \u001b[0mseller_id\u001b[0m \u001b[0mVARCHAR\u001b[0m\u001b[0;34m(\u001b[0m\u001b[0;36m50\u001b[0m\u001b[0;34m)\u001b[0m\u001b[0;34m,\u001b[0m\u001b[0;34m\u001b[0m\u001b[0;34m\u001b[0m\u001b[0m\n\u001b[1;32m      5\u001b[0m                                           \u001b[0mshipping_limit_date\u001b[0m \u001b[0mDATETIME\u001b[0m\u001b[0;34m,\u001b[0m\u001b[0;34m\u001b[0m\u001b[0;34m\u001b[0m\u001b[0m\n",
      "\u001b[0;32m~/opt/anaconda3/lib/python3.8/site-packages/mysql/connector/cursor_cext.py\u001b[0m in \u001b[0;36mexecute\u001b[0;34m(self, operation, params, multi)\u001b[0m\n\u001b[1;32m    272\u001b[0m \u001b[0;34m\u001b[0m\u001b[0m\n\u001b[1;32m    273\u001b[0m         \u001b[0;32mtry\u001b[0m\u001b[0;34m:\u001b[0m\u001b[0;34m\u001b[0m\u001b[0;34m\u001b[0m\u001b[0m\n\u001b[0;32m--> 274\u001b[0;31m             result = self._cnx.cmd_query(stmt, raw=self._raw,\n\u001b[0m\u001b[1;32m    275\u001b[0m                                          \u001b[0mbuffered\u001b[0m\u001b[0;34m=\u001b[0m\u001b[0mself\u001b[0m\u001b[0;34m.\u001b[0m\u001b[0m_buffered\u001b[0m\u001b[0;34m,\u001b[0m\u001b[0;34m\u001b[0m\u001b[0;34m\u001b[0m\u001b[0m\n\u001b[1;32m    276\u001b[0m                                          raw_as_string=self._raw_as_string)\n",
      "\u001b[0;32m~/opt/anaconda3/lib/python3.8/site-packages/mysql/connector/connection_cext.py\u001b[0m in \u001b[0;36mcmd_query\u001b[0;34m(self, query, raw, buffered, raw_as_string)\u001b[0m\n\u001b[1;32m    509\u001b[0m                                raw_as_string=raw_as_string)\n\u001b[1;32m    510\u001b[0m         \u001b[0;32mexcept\u001b[0m \u001b[0mMySQLInterfaceError\u001b[0m \u001b[0;32mas\u001b[0m \u001b[0mexc\u001b[0m\u001b[0;34m:\u001b[0m\u001b[0;34m\u001b[0m\u001b[0;34m\u001b[0m\u001b[0m\n\u001b[0;32m--> 511\u001b[0;31m             raise errors.get_mysql_exception(exc.errno, msg=exc.msg,\n\u001b[0m\u001b[1;32m    512\u001b[0m                                              sqlstate=exc.sqlstate)\n\u001b[1;32m    513\u001b[0m         \u001b[0;32mexcept\u001b[0m \u001b[0mAttributeError\u001b[0m\u001b[0;34m:\u001b[0m\u001b[0;34m\u001b[0m\u001b[0;34m\u001b[0m\u001b[0m\n",
      "\u001b[0;31mProgrammingError\u001b[0m: 1050 (42S01): Table 'order_items' already exists"
     ]
    }
   ],
   "source": [
    "db_cursor.execute(\"\"\"CREATE TABLE ORDER_ITEMS (order_id VARCHAR(50) NOT NULL, \n",
    "                                          order_item_id INTEGER, \n",
    "                                          product_id VARCHAR(50), \n",
    "                                          seller_id VARCHAR(50), \n",
    "                                          shipping_limit_date DATETIME,\n",
    "                                          price FLOAT,\n",
    "                                          freight_value FLOAT)\"\"\")\n",
    "\n",
    "insert_orderitems = (\n",
    "    \"INSERT INTO ORDER_ITEMS(order_id, order_item_id, product_id, seller_id, shipping_limit_date, price, freight_value) \"\n",
    "    \"VALUES (%s, %s, %s, %s, %s, %s, %s)\"\n",
    ")\n",
    "\n",
    "populate_table(db_connection, db_cursor, insert_orderitems, \"data/order_items.csv\")"
   ]
  },
  {
   "cell_type": "code",
   "execution_count": 10,
   "metadata": {},
   "outputs": [
    {
     "ename": "ProgrammingError",
     "evalue": "1050 (42S01): Table 'products' already exists",
     "output_type": "error",
     "traceback": [
      "\u001b[0;31m---------------------------------------------------------------------------\u001b[0m",
      "\u001b[0;31mMySQLInterfaceError\u001b[0m                       Traceback (most recent call last)",
      "\u001b[0;32m~/opt/anaconda3/lib/python3.8/site-packages/mysql/connector/connection_cext.py\u001b[0m in \u001b[0;36mcmd_query\u001b[0;34m(self, query, raw, buffered, raw_as_string)\u001b[0m\n\u001b[1;32m    506\u001b[0m                 \u001b[0mquery\u001b[0m \u001b[0;34m=\u001b[0m \u001b[0mquery\u001b[0m\u001b[0;34m.\u001b[0m\u001b[0mencode\u001b[0m\u001b[0;34m(\u001b[0m\u001b[0;34m'utf-8'\u001b[0m\u001b[0;34m)\u001b[0m\u001b[0;34m\u001b[0m\u001b[0;34m\u001b[0m\u001b[0m\n\u001b[0;32m--> 507\u001b[0;31m             self._cmysql.query(query,\n\u001b[0m\u001b[1;32m    508\u001b[0m                                \u001b[0mraw\u001b[0m\u001b[0;34m=\u001b[0m\u001b[0mraw\u001b[0m\u001b[0;34m,\u001b[0m \u001b[0mbuffered\u001b[0m\u001b[0;34m=\u001b[0m\u001b[0mbuffered\u001b[0m\u001b[0;34m,\u001b[0m\u001b[0;34m\u001b[0m\u001b[0;34m\u001b[0m\u001b[0m\n",
      "\u001b[0;31mMySQLInterfaceError\u001b[0m: Table 'products' already exists",
      "\nDuring handling of the above exception, another exception occurred:\n",
      "\u001b[0;31mProgrammingError\u001b[0m                          Traceback (most recent call last)",
      "\u001b[0;32m<ipython-input-10-98ffadd72324>\u001b[0m in \u001b[0;36m<module>\u001b[0;34m\u001b[0m\n\u001b[0;32m----> 1\u001b[0;31m db_cursor.execute(\"\"\"CREATE TABLE PRODUCTS (product_id VARCHAR(50) NOT NULL, \n\u001b[0m\u001b[1;32m      2\u001b[0m                                             \u001b[0mproduct_category_name\u001b[0m \u001b[0mVARCHAR\u001b[0m\u001b[0;34m(\u001b[0m\u001b[0;36m50\u001b[0m\u001b[0;34m)\u001b[0m\u001b[0;34m,\u001b[0m\u001b[0;34m\u001b[0m\u001b[0;34m\u001b[0m\u001b[0m\n\u001b[1;32m      3\u001b[0m                                             \u001b[0mproduct_name_lenght\u001b[0m \u001b[0mFLOAT\u001b[0m\u001b[0;34m,\u001b[0m\u001b[0;34m\u001b[0m\u001b[0;34m\u001b[0m\u001b[0m\n\u001b[1;32m      4\u001b[0m                                             \u001b[0mproduct_description_lenght\u001b[0m \u001b[0mFLOAT\u001b[0m\u001b[0;34m,\u001b[0m\u001b[0;34m\u001b[0m\u001b[0;34m\u001b[0m\u001b[0m\n\u001b[1;32m      5\u001b[0m                                             \u001b[0mproduct_photos_qty\u001b[0m \u001b[0mFLOAT\u001b[0m\u001b[0;34m,\u001b[0m\u001b[0;34m\u001b[0m\u001b[0;34m\u001b[0m\u001b[0m\n",
      "\u001b[0;32m~/opt/anaconda3/lib/python3.8/site-packages/mysql/connector/cursor_cext.py\u001b[0m in \u001b[0;36mexecute\u001b[0;34m(self, operation, params, multi)\u001b[0m\n\u001b[1;32m    272\u001b[0m \u001b[0;34m\u001b[0m\u001b[0m\n\u001b[1;32m    273\u001b[0m         \u001b[0;32mtry\u001b[0m\u001b[0;34m:\u001b[0m\u001b[0;34m\u001b[0m\u001b[0;34m\u001b[0m\u001b[0m\n\u001b[0;32m--> 274\u001b[0;31m             result = self._cnx.cmd_query(stmt, raw=self._raw,\n\u001b[0m\u001b[1;32m    275\u001b[0m                                          \u001b[0mbuffered\u001b[0m\u001b[0;34m=\u001b[0m\u001b[0mself\u001b[0m\u001b[0;34m.\u001b[0m\u001b[0m_buffered\u001b[0m\u001b[0;34m,\u001b[0m\u001b[0;34m\u001b[0m\u001b[0;34m\u001b[0m\u001b[0m\n\u001b[1;32m    276\u001b[0m                                          raw_as_string=self._raw_as_string)\n",
      "\u001b[0;32m~/opt/anaconda3/lib/python3.8/site-packages/mysql/connector/connection_cext.py\u001b[0m in \u001b[0;36mcmd_query\u001b[0;34m(self, query, raw, buffered, raw_as_string)\u001b[0m\n\u001b[1;32m    509\u001b[0m                                raw_as_string=raw_as_string)\n\u001b[1;32m    510\u001b[0m         \u001b[0;32mexcept\u001b[0m \u001b[0mMySQLInterfaceError\u001b[0m \u001b[0;32mas\u001b[0m \u001b[0mexc\u001b[0m\u001b[0;34m:\u001b[0m\u001b[0;34m\u001b[0m\u001b[0;34m\u001b[0m\u001b[0m\n\u001b[0;32m--> 511\u001b[0;31m             raise errors.get_mysql_exception(exc.errno, msg=exc.msg,\n\u001b[0m\u001b[1;32m    512\u001b[0m                                              sqlstate=exc.sqlstate)\n\u001b[1;32m    513\u001b[0m         \u001b[0;32mexcept\u001b[0m \u001b[0mAttributeError\u001b[0m\u001b[0;34m:\u001b[0m\u001b[0;34m\u001b[0m\u001b[0;34m\u001b[0m\u001b[0m\n",
      "\u001b[0;31mProgrammingError\u001b[0m: 1050 (42S01): Table 'products' already exists"
     ]
    }
   ],
   "source": [
    "db_cursor.execute(\"\"\"CREATE TABLE PRODUCTS (product_id VARCHAR(50) NOT NULL, \n",
    "                                            product_category_name VARCHAR(50),\n",
    "                                            product_name_lenght FLOAT,\n",
    "                                            product_description_lenght FLOAT,\n",
    "                                            product_photos_qty FLOAT,\n",
    "                                            product_weight_g FLOAT,\n",
    "                                            product_length_cm FLOAT,\n",
    "                                            product_height_cm FLOAT,\n",
    "                                            product_width_cm FLOAT)\n",
    "                                            \n",
    "                                          \"\"\")\n",
    "\n",
    "insert_products = (\n",
    "    \"INSERT INTO PRODUCTS(product_id, product_category_name, product_name_lenght, product_description_lenght, product_photos_qty, product_weight_g, product_length_cm, product_height_cm, product_width_cm) \"\n",
    "    \"VALUES (%s, %s, %s, %s, %s, %s, %s, %s, %s) \"\n",
    ")\n",
    "\n",
    "populate_table(db_connection, db_cursor, insert_products, \"data/products.csv\")"
   ]
  },
  {
   "cell_type": "code",
   "execution_count": 11,
   "metadata": {},
   "outputs": [
    {
     "ename": "ProgrammingError",
     "evalue": "1050 (42S01): Table 'orders' already exists",
     "output_type": "error",
     "traceback": [
      "\u001b[0;31m---------------------------------------------------------------------------\u001b[0m",
      "\u001b[0;31mMySQLInterfaceError\u001b[0m                       Traceback (most recent call last)",
      "\u001b[0;32m~/opt/anaconda3/lib/python3.8/site-packages/mysql/connector/connection_cext.py\u001b[0m in \u001b[0;36mcmd_query\u001b[0;34m(self, query, raw, buffered, raw_as_string)\u001b[0m\n\u001b[1;32m    506\u001b[0m                 \u001b[0mquery\u001b[0m \u001b[0;34m=\u001b[0m \u001b[0mquery\u001b[0m\u001b[0;34m.\u001b[0m\u001b[0mencode\u001b[0m\u001b[0;34m(\u001b[0m\u001b[0;34m'utf-8'\u001b[0m\u001b[0;34m)\u001b[0m\u001b[0;34m\u001b[0m\u001b[0;34m\u001b[0m\u001b[0m\n\u001b[0;32m--> 507\u001b[0;31m             self._cmysql.query(query,\n\u001b[0m\u001b[1;32m    508\u001b[0m                                \u001b[0mraw\u001b[0m\u001b[0;34m=\u001b[0m\u001b[0mraw\u001b[0m\u001b[0;34m,\u001b[0m \u001b[0mbuffered\u001b[0m\u001b[0;34m=\u001b[0m\u001b[0mbuffered\u001b[0m\u001b[0;34m,\u001b[0m\u001b[0;34m\u001b[0m\u001b[0;34m\u001b[0m\u001b[0m\n",
      "\u001b[0;31mMySQLInterfaceError\u001b[0m: Table 'orders' already exists",
      "\nDuring handling of the above exception, another exception occurred:\n",
      "\u001b[0;31mProgrammingError\u001b[0m                          Traceback (most recent call last)",
      "\u001b[0;32m<ipython-input-11-892d366ce2a7>\u001b[0m in \u001b[0;36m<module>\u001b[0;34m\u001b[0m\n\u001b[0;32m----> 1\u001b[0;31m db_cursor.execute(\"\"\"CREATE TABLE ORDERS (order_id VARCHAR(50) NOT NULL, \n\u001b[0m\u001b[1;32m      2\u001b[0m                                           \u001b[0mcustomer_id\u001b[0m \u001b[0mVARCHAR\u001b[0m\u001b[0;34m(\u001b[0m\u001b[0;36m50\u001b[0m\u001b[0;34m)\u001b[0m \u001b[0mNOT\u001b[0m \u001b[0mNULL\u001b[0m\u001b[0;34m,\u001b[0m\u001b[0;34m\u001b[0m\u001b[0;34m\u001b[0m\u001b[0m\n\u001b[1;32m      3\u001b[0m                                           \u001b[0morder_status\u001b[0m \u001b[0mVARCHAR\u001b[0m\u001b[0;34m(\u001b[0m\u001b[0;36m50\u001b[0m\u001b[0;34m)\u001b[0m\u001b[0;34m,\u001b[0m\u001b[0;34m\u001b[0m\u001b[0;34m\u001b[0m\u001b[0m\n\u001b[1;32m      4\u001b[0m                                           \u001b[0morder_purchase_timestamp\u001b[0m \u001b[0mDATETIME\u001b[0m\u001b[0;34m,\u001b[0m\u001b[0;34m\u001b[0m\u001b[0;34m\u001b[0m\u001b[0m\n\u001b[1;32m      5\u001b[0m                                           \u001b[0morder_approved_at\u001b[0m \u001b[0mDATETIME\u001b[0m\u001b[0;34m,\u001b[0m\u001b[0;34m\u001b[0m\u001b[0;34m\u001b[0m\u001b[0m\n",
      "\u001b[0;32m~/opt/anaconda3/lib/python3.8/site-packages/mysql/connector/cursor_cext.py\u001b[0m in \u001b[0;36mexecute\u001b[0;34m(self, operation, params, multi)\u001b[0m\n\u001b[1;32m    272\u001b[0m \u001b[0;34m\u001b[0m\u001b[0m\n\u001b[1;32m    273\u001b[0m         \u001b[0;32mtry\u001b[0m\u001b[0;34m:\u001b[0m\u001b[0;34m\u001b[0m\u001b[0;34m\u001b[0m\u001b[0m\n\u001b[0;32m--> 274\u001b[0;31m             result = self._cnx.cmd_query(stmt, raw=self._raw,\n\u001b[0m\u001b[1;32m    275\u001b[0m                                          \u001b[0mbuffered\u001b[0m\u001b[0;34m=\u001b[0m\u001b[0mself\u001b[0m\u001b[0;34m.\u001b[0m\u001b[0m_buffered\u001b[0m\u001b[0;34m,\u001b[0m\u001b[0;34m\u001b[0m\u001b[0;34m\u001b[0m\u001b[0m\n\u001b[1;32m    276\u001b[0m                                          raw_as_string=self._raw_as_string)\n",
      "\u001b[0;32m~/opt/anaconda3/lib/python3.8/site-packages/mysql/connector/connection_cext.py\u001b[0m in \u001b[0;36mcmd_query\u001b[0;34m(self, query, raw, buffered, raw_as_string)\u001b[0m\n\u001b[1;32m    509\u001b[0m                                raw_as_string=raw_as_string)\n\u001b[1;32m    510\u001b[0m         \u001b[0;32mexcept\u001b[0m \u001b[0mMySQLInterfaceError\u001b[0m \u001b[0;32mas\u001b[0m \u001b[0mexc\u001b[0m\u001b[0;34m:\u001b[0m\u001b[0;34m\u001b[0m\u001b[0;34m\u001b[0m\u001b[0m\n\u001b[0;32m--> 511\u001b[0;31m             raise errors.get_mysql_exception(exc.errno, msg=exc.msg,\n\u001b[0m\u001b[1;32m    512\u001b[0m                                              sqlstate=exc.sqlstate)\n\u001b[1;32m    513\u001b[0m         \u001b[0;32mexcept\u001b[0m \u001b[0mAttributeError\u001b[0m\u001b[0;34m:\u001b[0m\u001b[0;34m\u001b[0m\u001b[0;34m\u001b[0m\u001b[0m\n",
      "\u001b[0;31mProgrammingError\u001b[0m: 1050 (42S01): Table 'orders' already exists"
     ]
    }
   ],
   "source": [
    "db_cursor.execute(\"\"\"CREATE TABLE ORDERS (order_id VARCHAR(50) NOT NULL, \n",
    "                                          customer_id VARCHAR(50) NOT NULL, \n",
    "                                          order_status VARCHAR(50), \n",
    "                                          order_purchase_timestamp DATETIME, \n",
    "                                          order_approved_at DATETIME,\n",
    "                                          order_delivered_carrier_date DATETIME,\n",
    "                                          order_delivered_customer_date DATETIME,\n",
    "                                          order_estimated_delivery_date DATETIME)\"\"\")\n",
    "\n",
    "insert_orders = (\n",
    "    \"INSERT INTO ORDERS(order_id, customer_id, order_status, order_purchase_timestamp, order_approved_at, order_delivered_carrier_date, order_delivered_customer_date, order_estimated_delivery_date) \"\n",
    "    \"VALUES (%s, %s, %s, %s, %s, %s, %s, %s)\"\n",
    ")\n",
    "\n",
    "populate_table(db_connection, db_cursor, insert_orders, \"data/orders.csv\")"
   ]
  },
  {
   "cell_type": "markdown",
   "metadata": {},
   "source": [
    "### 1. Data Analysis on E-Commerce Database"
   ]
  },
  {
   "cell_type": "markdown",
   "metadata": {},
   "source": [
    "#### Customers by cities"
   ]
  },
  {
   "cell_type": "code",
   "execution_count": 12,
   "metadata": {},
   "outputs": [],
   "source": [
    "db_cursor.execute(\"\"\"SELECT COUNT(customer_id), customer_city \n",
    "                                            FROM CUSTOMERS \n",
    "                                            GROUP BY customer_city\n",
    "                                            ORDER BY COUNT(customer_id) DESC\"\"\")\n",
    "customers_by_city = db_cursor.fetchall()"
   ]
  },
  {
   "cell_type": "code",
   "execution_count": 13,
   "metadata": {},
   "outputs": [
    {
     "name": "stdout",
     "output_type": "stream",
     "text": [
      "[(15540, 'sao paulo'), (6882, 'rio de janeiro'), (2773, 'belo horizonte'), (2131, 'brasilia'), (1521, 'curitiba'), (1444, 'campinas'), (1379, 'porto alegre'), (1245, 'salvador'), (1189, 'guarulhos'), (938, 'sao bernardo do campo')]\n"
     ]
    }
   ],
   "source": [
    "print(customers_by_city[:10])"
   ]
  },
  {
   "cell_type": "code",
   "execution_count": 14,
   "metadata": {},
   "outputs": [],
   "source": [
    "top10_cities = customers_by_city[:10]\n",
    "count, city = map(list, zip(*top10_cities))"
   ]
  },
  {
   "cell_type": "code",
   "execution_count": 15,
   "metadata": {},
   "outputs": [
    {
     "data": {
      "image/png": "[encoded data removed]",
      "text/plain": [
       "<Figure size 432x288 with 1 Axes>"
      ]
     },
     "metadata": {
      "needs_background": "light"
     },
     "output_type": "display_data"
    }
   ],
   "source": [
    "fig = plt.figure()\n",
    "ax = fig.add_axes([0,0,1,1])\n",
    "ax.bar(city, count)\n",
    "plt.setp(ax.get_xticklabels(), rotation=30, horizontalalignment='right')\n",
    "plt.show()"
   ]
  },
  {
   "cell_type": "markdown",
   "metadata": {},
   "source": [
    "#### Average payment value by payment type"
   ]
  },
  {
   "cell_type": "code",
   "execution_count": 16,
   "metadata": {},
   "outputs": [],
   "source": [
    "db_cursor.execute(\"\"\"SELECT AVG(payment_value), payment_type \n",
    "                                            FROM ORDER_PAYMENTS \n",
    "                                            WHERE payment_value > 0\n",
    "                                            GROUP BY payment_type\n",
    "                                            ORDER BY AVG(payment_value) DESC\"\"\")\n",
    "value_by_type = db_cursor.fetchall()"
   ]
  },
  {
   "cell_type": "code",
   "execution_count": 17,
   "metadata": {},
   "outputs": [
    {
     "name": "stdout",
     "output_type": "stream",
     "text": [
      "[163.31902064167554, 145.03443537677197, 142.57017003764818, 65.77168840279909] ['credit_card', 'boleto', 'debit_card', 'voucher']\n"
     ]
    }
   ],
   "source": [
    "value, t = map(list, zip(*value_by_type))\n",
    "print(value, t)\n"
   ]
  },
  {
   "cell_type": "code",
   "execution_count": 18,
   "metadata": {},
   "outputs": [
    {
     "data": {
      "image/png": "[encoded data removed]",
      "text/plain": [
       "<Figure size 432x288 with 1 Axes>"
      ]
     },
     "metadata": {
      "needs_background": "light"
     },
     "output_type": "display_data"
    }
   ],
   "source": [
    "fig = plt.figure()\n",
    "ax = fig.add_axes([0,0,1,1])\n",
    "ax.bar(t, value)\n",
    "plt.setp(ax.get_xticklabels(), rotation=30, horizontalalignment='right')\n",
    "plt.show()"
   ]
  },
  {
   "cell_type": "markdown",
   "metadata": {},
   "source": [
    "#### Top 10 spenders\n"
   ]
  },
  {
   "cell_type": "code",
   "execution_count": 19,
   "metadata": {},
   "outputs": [],
   "source": [
    "db_cursor.execute(\"\"\"SELECT ORDERS.customer_id, SUM(ORDER_COSTS.cost) AS spent \n",
    "                        FROM\n",
    "                        ORDERS JOIN\n",
    "                        (SELECT order_id , SUM(price) AS cost\n",
    "                                FROM ORDER_ITEMS  \n",
    "                                GROUP BY order_id\n",
    "                        ) ORDER_COSTS\n",
    "                        ON ORDERS.order_id=ORDER_COSTS.order_id\n",
    "                        GROUP BY ORDERS.customer_id\n",
    "                        ORDER BY spent DESC\n",
    "                                \"\"\")\n",
    "top_spenders = db_cursor.fetchall()"
   ]
  },
  {
   "cell_type": "code",
   "execution_count": 20,
   "metadata": {},
   "outputs": [
    {
     "name": "stdout",
     "output_type": "stream",
     "text": [
      "['\"1617b1357756262bfa56ab541c47bc16\"', 'ec5b2ba62e574342386871631fafd3fc', 'c6e2731c5b391845f6800c97401a43a9', 'f48d464a0baaea338cb25f816991ab1f', '\"3fd6777bbce08a352fddd04e4a7cc8f6\"', '\"05455dfa7cd02f13d132aa7a6a9729c6\"', 'df55c14d1476a9a3467f131269c2477f', '\"24bbf5fd2f2e1b359ee7de94defc4a15\"', 'e0a2412720e9ea4f26c1ac985f6a7358', '\"3d979689f636322c62418b6346b1c6d2\"'] [13440.0, 7160.0, 6735.0, 6729.0, 6499.0, 5934.599853515625, 4799.0, 4690.0, 4599.89990234375, 4590.0]\n"
     ]
    }
   ],
   "source": [
    "spent, cid = map(list, zip(*top_spenders[:10]))\n",
    "print(spent, cid)"
   ]
  },
  {
   "cell_type": "code",
   "execution_count": 21,
   "metadata": {},
   "outputs": [
    {
     "data": {
      "image/png": "[encoded data removed]",
      "text/plain": [
       "<Figure size 432x288 with 1 Axes>"
      ]
     },
     "metadata": {
      "needs_background": "light"
     },
     "output_type": "display_data"
    }
   ],
   "source": [
    "fig = plt.figure()\n",
    "ax = fig.add_axes([0,0,1,1])\n",
    "ax.bar(spent, cid)\n",
    "plt.setp(ax.get_xticklabels(), rotation=30, horizontalalignment='right')\n",
    "plt.show()"
   ]
  },
  {
   "cell_type": "markdown",
   "metadata": {},
   "source": [
    "## User-Based Collaborative Filtering"
   ]
  },
  {
   "cell_type": "code",
   "execution_count": 22,
   "metadata": {},
   "outputs": [
    {
     "ename": "ProgrammingError",
     "evalue": "1050 (42S01): Table 'QUANTITY' already exists",
     "output_type": "error",
     "traceback": [
      "\u001b[0;31m---------------------------------------------------------------------------\u001b[0m",
      "\u001b[0;31mMySQLInterfaceError\u001b[0m                       Traceback (most recent call last)",
      "\u001b[0;32m~/opt/anaconda3/lib/python3.8/site-packages/mysql/connector/connection_cext.py\u001b[0m in \u001b[0;36mcmd_query\u001b[0;34m(self, query, raw, buffered, raw_as_string)\u001b[0m\n\u001b[1;32m    506\u001b[0m                 \u001b[0mquery\u001b[0m \u001b[0;34m=\u001b[0m \u001b[0mquery\u001b[0m\u001b[0;34m.\u001b[0m\u001b[0mencode\u001b[0m\u001b[0;34m(\u001b[0m\u001b[0;34m'utf-8'\u001b[0m\u001b[0;34m)\u001b[0m\u001b[0;34m\u001b[0m\u001b[0;34m\u001b[0m\u001b[0m\n\u001b[0;32m--> 507\u001b[0;31m             self._cmysql.query(query,\n\u001b[0m\u001b[1;32m    508\u001b[0m                                \u001b[0mraw\u001b[0m\u001b[0;34m=\u001b[0m\u001b[0mraw\u001b[0m\u001b[0;34m,\u001b[0m \u001b[0mbuffered\u001b[0m\u001b[0;34m=\u001b[0m\u001b[0mbuffered\u001b[0m\u001b[0;34m,\u001b[0m\u001b[0;34m\u001b[0m\u001b[0;34m\u001b[0m\u001b[0m\n",
      "\u001b[0;31mMySQLInterfaceError\u001b[0m: Table 'QUANTITY' already exists",
      "\nDuring handling of the above exception, another exception occurred:\n",
      "\u001b[0;31mProgrammingError\u001b[0m                          Traceback (most recent call last)",
      "\u001b[0;32m<ipython-input-22-75feba9f68cb>\u001b[0m in \u001b[0;36m<module>\u001b[0;34m\u001b[0m\n\u001b[1;32m      6\u001b[0m                         GROUP BY order_id, product_id)\n\u001b[1;32m      7\u001b[0m                  \"\"\"\n\u001b[0;32m----> 8\u001b[0;31m \u001b[0mdb_cursor\u001b[0m\u001b[0;34m.\u001b[0m\u001b[0mexecute\u001b[0m\u001b[0;34m(\u001b[0m\u001b[0mquantity_query\u001b[0m\u001b[0;34m)\u001b[0m\u001b[0;34m\u001b[0m\u001b[0;34m\u001b[0m\u001b[0m\n\u001b[0m",
      "\u001b[0;32m~/opt/anaconda3/lib/python3.8/site-packages/mysql/connector/cursor_cext.py\u001b[0m in \u001b[0;36mexecute\u001b[0;34m(self, operation, params, multi)\u001b[0m\n\u001b[1;32m    272\u001b[0m \u001b[0;34m\u001b[0m\u001b[0m\n\u001b[1;32m    273\u001b[0m         \u001b[0;32mtry\u001b[0m\u001b[0;34m:\u001b[0m\u001b[0;34m\u001b[0m\u001b[0;34m\u001b[0m\u001b[0m\n\u001b[0;32m--> 274\u001b[0;31m             result = self._cnx.cmd_query(stmt, raw=self._raw,\n\u001b[0m\u001b[1;32m    275\u001b[0m                                          \u001b[0mbuffered\u001b[0m\u001b[0;34m=\u001b[0m\u001b[0mself\u001b[0m\u001b[0;34m.\u001b[0m\u001b[0m_buffered\u001b[0m\u001b[0;34m,\u001b[0m\u001b[0;34m\u001b[0m\u001b[0;34m\u001b[0m\u001b[0m\n\u001b[1;32m    276\u001b[0m                                          raw_as_string=self._raw_as_string)\n",
      "\u001b[0;32m~/opt/anaconda3/lib/python3.8/site-packages/mysql/connector/connection_cext.py\u001b[0m in \u001b[0;36mcmd_query\u001b[0;34m(self, query, raw, buffered, raw_as_string)\u001b[0m\n\u001b[1;32m    509\u001b[0m                                raw_as_string=raw_as_string)\n\u001b[1;32m    510\u001b[0m         \u001b[0;32mexcept\u001b[0m \u001b[0mMySQLInterfaceError\u001b[0m \u001b[0;32mas\u001b[0m \u001b[0mexc\u001b[0m\u001b[0;34m:\u001b[0m\u001b[0;34m\u001b[0m\u001b[0;34m\u001b[0m\u001b[0m\n\u001b[0;32m--> 511\u001b[0;31m             raise errors.get_mysql_exception(exc.errno, msg=exc.msg,\n\u001b[0m\u001b[1;32m    512\u001b[0m                                              sqlstate=exc.sqlstate)\n\u001b[1;32m    513\u001b[0m         \u001b[0;32mexcept\u001b[0m \u001b[0mAttributeError\u001b[0m\u001b[0;34m:\u001b[0m\u001b[0;34m\u001b[0m\u001b[0;34m\u001b[0m\u001b[0m\n",
      "\u001b[0;31mProgrammingError\u001b[0m: 1050 (42S01): Table 'QUANTITY' already exists"
     ]
    }
   ],
   "source": [
    "quantity_query = \"\"\"\n",
    "                    CREATE TABLE QUANTITY AS (\n",
    "                        SELECT\n",
    "                            order_id, product_id, COUNT(*) as qty\n",
    "                        FROM ORDER_ITEMS\n",
    "                        GROUP BY order_id, product_id)\n",
    "                 \"\"\"\n",
    "db_cursor.execute(quantity_query)"
   ]
  },
  {
   "cell_type": "code",
   "execution_count": 23,
   "metadata": {
    "scrolled": true
   },
   "outputs": [
    {
     "ename": "ProgrammingError",
     "evalue": "1050 (42S01): Table 'PURCHASE' already exists",
     "output_type": "error",
     "traceback": [
      "\u001b[0;31m---------------------------------------------------------------------------\u001b[0m",
      "\u001b[0;31mMySQLInterfaceError\u001b[0m                       Traceback (most recent call last)",
      "\u001b[0;32m~/opt/anaconda3/lib/python3.8/site-packages/mysql/connector/connection_cext.py\u001b[0m in \u001b[0;36mcmd_query\u001b[0;34m(self, query, raw, buffered, raw_as_string)\u001b[0m\n\u001b[1;32m    506\u001b[0m                 \u001b[0mquery\u001b[0m \u001b[0;34m=\u001b[0m \u001b[0mquery\u001b[0m\u001b[0;34m.\u001b[0m\u001b[0mencode\u001b[0m\u001b[0;34m(\u001b[0m\u001b[0;34m'utf-8'\u001b[0m\u001b[0;34m)\u001b[0m\u001b[0;34m\u001b[0m\u001b[0;34m\u001b[0m\u001b[0m\n\u001b[0;32m--> 507\u001b[0;31m             self._cmysql.query(query,\n\u001b[0m\u001b[1;32m    508\u001b[0m                                \u001b[0mraw\u001b[0m\u001b[0;34m=\u001b[0m\u001b[0mraw\u001b[0m\u001b[0;34m,\u001b[0m \u001b[0mbuffered\u001b[0m\u001b[0;34m=\u001b[0m\u001b[0mbuffered\u001b[0m\u001b[0;34m,\u001b[0m\u001b[0;34m\u001b[0m\u001b[0;34m\u001b[0m\u001b[0m\n",
      "\u001b[0;31mMySQLInterfaceError\u001b[0m: Table 'PURCHASE' already exists",
      "\nDuring handling of the above exception, another exception occurred:\n",
      "\u001b[0;31mProgrammingError\u001b[0m                          Traceback (most recent call last)",
      "\u001b[0;32m<ipython-input-23-a1675b2e9481>\u001b[0m in \u001b[0;36m<module>\u001b[0;34m\u001b[0m\n\u001b[1;32m     12\u001b[0m                 \"\"\"\n\u001b[1;32m     13\u001b[0m \u001b[0;34m\u001b[0m\u001b[0m\n\u001b[0;32m---> 14\u001b[0;31m \u001b[0mdb_cursor\u001b[0m\u001b[0;34m.\u001b[0m\u001b[0mexecute\u001b[0m\u001b[0;34m(\u001b[0m\u001b[0mpurchase_query\u001b[0m\u001b[0;34m)\u001b[0m\u001b[0;34m\u001b[0m\u001b[0;34m\u001b[0m\u001b[0m\n\u001b[0m",
      "\u001b[0;32m~/opt/anaconda3/lib/python3.8/site-packages/mysql/connector/cursor_cext.py\u001b[0m in \u001b[0;36mexecute\u001b[0;34m(self, operation, params, multi)\u001b[0m\n\u001b[1;32m    272\u001b[0m \u001b[0;34m\u001b[0m\u001b[0m\n\u001b[1;32m    273\u001b[0m         \u001b[0;32mtry\u001b[0m\u001b[0;34m:\u001b[0m\u001b[0;34m\u001b[0m\u001b[0;34m\u001b[0m\u001b[0m\n\u001b[0;32m--> 274\u001b[0;31m             result = self._cnx.cmd_query(stmt, raw=self._raw,\n\u001b[0m\u001b[1;32m    275\u001b[0m                                          \u001b[0mbuffered\u001b[0m\u001b[0;34m=\u001b[0m\u001b[0mself\u001b[0m\u001b[0;34m.\u001b[0m\u001b[0m_buffered\u001b[0m\u001b[0;34m,\u001b[0m\u001b[0;34m\u001b[0m\u001b[0;34m\u001b[0m\u001b[0m\n\u001b[1;32m    276\u001b[0m                                          raw_as_string=self._raw_as_string)\n",
      "\u001b[0;32m~/opt/anaconda3/lib/python3.8/site-packages/mysql/connector/connection_cext.py\u001b[0m in \u001b[0;36mcmd_query\u001b[0;34m(self, query, raw, buffered, raw_as_string)\u001b[0m\n\u001b[1;32m    509\u001b[0m                                raw_as_string=raw_as_string)\n\u001b[1;32m    510\u001b[0m         \u001b[0;32mexcept\u001b[0m \u001b[0mMySQLInterfaceError\u001b[0m \u001b[0;32mas\u001b[0m \u001b[0mexc\u001b[0m\u001b[0;34m:\u001b[0m\u001b[0;34m\u001b[0m\u001b[0;34m\u001b[0m\u001b[0m\n\u001b[0;32m--> 511\u001b[0;31m             raise errors.get_mysql_exception(exc.errno, msg=exc.msg,\n\u001b[0m\u001b[1;32m    512\u001b[0m                                              sqlstate=exc.sqlstate)\n\u001b[1;32m    513\u001b[0m         \u001b[0;32mexcept\u001b[0m \u001b[0mAttributeError\u001b[0m\u001b[0;34m:\u001b[0m\u001b[0;34m\u001b[0m\u001b[0;34m\u001b[0m\u001b[0m\n",
      "\u001b[0;31mProgrammingError\u001b[0m: 1050 (42S01): Table 'PURCHASE' already exists"
     ]
    }
   ],
   "source": [
    "purchase_query = \"\"\"\n",
    "                    CREATE TABLE PURCHASE AS (\n",
    "                        SELECT \n",
    "                            CUSTOMERS.customer_id as cid, \n",
    "                            QUANTITY.product_id as pid,\n",
    "                            QUANTITY.qty\n",
    "                        FROM \n",
    "                            ORDERS JOIN CUSTOMERS \n",
    "                                ON ORDERS.customer_id=CUSTOMERS.customer_id \n",
    "                            JOIN QUANTITY \n",
    "                                ON ORDERS.order_id=QUANTITY.order_id)\n",
    "                \"\"\"\n",
    "\n",
    "db_cursor.execute(purchase_query)"
   ]
  },
  {
   "cell_type": "code",
   "execution_count": 24,
   "metadata": {},
   "outputs": [],
   "source": [
    "user_based_query = \"\"\"\n",
    "                          SELECT P1.cid AS user_1,\n",
    "                               P2.cid AS user_2,\n",
    "                               SUM(P1.qty * P2.qty) AS similarity\n",
    "\n",
    "                            FROM PURCHASE P1\n",
    "                            JOIN PURCHASE P2\n",
    "                                ON P1.pid=P2.pid\n",
    "                            WHERE P1.cid<>P2.cid\n",
    "\n",
    "                            GROUP BY user_1, user_2\n",
    "                            ORDER BY similarity DESC\n",
    "                \"\"\"\n",
    "\n",
    "db_cursor.execute(user_based_query)\n",
    "user_based = db_cursor.fetchall()"
   ]
  },
  {
   "cell_type": "code",
   "execution_count": 25,
   "metadata": {},
   "outputs": [
    {
     "data": {
      "text/plain": [
       "[('d5f2b3f597c7ccafbb5cac0bcc3d6024',\n",
       "  'fefe47950f42fddc66afdf7315a36dae',\n",
       "  Decimal('84')),\n",
       " ('d5f2b3f597c7ccafbb5cac0bcc3d6024',\n",
       "  'c799766de6042338158b08fc7418df09',\n",
       "  Decimal('84')),\n",
       " ('fefe47950f42fddc66afdf7315a36dae',\n",
       "  'd5f2b3f597c7ccafbb5cac0bcc3d6024',\n",
       "  Decimal('84'))]"
      ]
     },
     "execution_count": 25,
     "metadata": {},
     "output_type": "execute_result"
    }
   ],
   "source": [
    "user_based[:3]"
   ]
  },
  {
   "cell_type": "code",
   "execution_count": 26,
   "metadata": {},
   "outputs": [],
   "source": [
    "def get_purchased_items(cid):\n",
    "    query = \"SELECT pid, qty from PURCHASE where cid='\" + cid + \"'\"\n",
    "    db_cursor.execute(query)\n",
    "    items = db_cursor.fetchall()\n",
    "    return items"
   ]
  },
  {
   "cell_type": "code",
   "execution_count": 27,
   "metadata": {},
   "outputs": [
    {
     "name": "stdout",
     "output_type": "stream",
     "text": [
      "[('\"422879e10f46682990de24d770e7f83d\"', 14)]\n",
      "[('\"422879e10f46682990de24d770e7f83d\"', 6)]\n"
     ]
    }
   ],
   "source": [
    "print(get_purchased_items(\"d5f2b3f597c7ccafbb5cac0bcc3d6024\"))\n",
    "print(get_purchased_items(\"fefe47950f42fddc66afdf7315a36dae\"))\n"
   ]
  },
  {
   "cell_type": "code",
   "execution_count": 28,
   "metadata": {},
   "outputs": [
    {
     "name": "stdout",
     "output_type": "stream",
     "text": [
      "[(Decimal('12.0941'),)]\n"
     ]
    }
   ],
   "source": [
    "#Q1)\n",
    "db_cursor.execute(\"\"\"SELECT AVG(TIMESTAMPDIFF(DAY,order_purchase_timestamp,order_delivered_customer_date)) AS Average\n",
    "FROM ps_ecommerce.ORDERS;\n",
    "\n",
    "                                \"\"\")\n",
    "averageDelvTime = db_cursor.fetchall()\n",
    "print(averageDelvTime)"
   ]
  },
  {
   "cell_type": "code",
   "execution_count": 29,
   "metadata": {},
   "outputs": [
    {
     "name": "stdout",
     "output_type": "stream",
     "text": [
      "[('SP', 15588), ('RJ', 4807), ('MG', 4488), ('RS', 2063), ('PR', 1843), ('SC', 1371), ('BA', 1261), ('GO', 807), ('DF', 802), ('ES', 751), ('PE', 655), ('CE', 492), ('PA', 338), ('MT', 337), ('MA', 264), ('MS', 246), ('PB', 211), ('PI', 184), ('RN', 167), ('AL', 162), ('SE', 116), ('TO', 106), ('RO', 105), ('AM', 48), ('AC', 25), ('AP', 22), ('RR', 17)]\n"
     ]
    },
    {
     "data": {
      "image/png": "[encoded data removed]",
      "text/plain": [
       "<Figure size 432x288 with 1 Axes>"
      ]
     },
     "metadata": {
      "needs_background": "light"
     },
     "output_type": "display_data"
    }
   ],
   "source": [
    "#Q2\n",
    "db_cursor.execute(\"\"\"SELECT C.customer_state,COUNT(*) AS count\n",
    "FROM ps_ecommerce.ORDERS AS O, ps_ecommerce.CUSTOMERS AS C\n",
    "WHERE O.customer_id = C.customer_id\n",
    "GROUP BY customer_state\n",
    "ORDER BY count DESC; \"\"\")\n",
    "countforEachState = db_cursor.fetchall()\n",
    "print(countforEachState)\n",
    "\n",
    "state, countt = map(list, zip(*countforEachState[:]))\n",
    "fig = plt.figure()\n",
    "ax = fig.add_axes([0,0,1,1])\n",
    "ax.bar(state, countt)\n",
    "plt.setp(ax.get_xticklabels(), rotation=30, horizontalalignment='right')\n",
    "plt.show()\n",
    "\n",
    "\n",
    "\n",
    "\n"
   ]
  },
  {
   "cell_type": "code",
   "execution_count": 30,
   "metadata": {},
   "outputs": [
    {
     "name": "stdout",
     "output_type": "stream",
     "text": [
      "[(1, 11960), (2, 16196), (3, 15963), (4, 15552), (5, 14761), (6, 14122), (7, 10887)]\n"
     ]
    },
    {
     "data": {
      "image/png": "[encoded data removed]",
      "text/plain": [
       "<Figure size 432x288 with 1 Axes>"
      ]
     },
     "metadata": {
      "needs_background": "light"
     },
     "output_type": "display_data"
    }
   ],
   "source": [
    "#Q3)\n",
    "db_cursor.execute(\"\"\"SELECT  DAYOFWEEK(order_purchase_timestamp) AS days,COUNT(*) AS count\n",
    "FROM ps_ecommerce.ORDERS AS O\n",
    "GROUP BY DAYOFWEEK(order_purchase_timestamp)\n",
    "ORDER BY days ASC; \"\"\")\n",
    "daysOfWeek = db_cursor.fetchall()\n",
    "print(daysOfWeek)\n",
    "\n",
    "days, amount = map(list, zip(*daysOfWeek[:]))\n",
    "fig = plt.figure()\n",
    "ax = fig.add_axes([0,0,1,1])\n",
    "ax.bar(['Sunday','Monday','Tuesday','Wednesday','Thursday','Friday','Saturday'], amount)\n",
    "plt.setp(ax.get_xticklabels(), rotation=30, horizontalalignment='right')\n",
    "plt.show()\n",
    "\n",
    "\n",
    "\n"
   ]
  },
  {
   "cell_type": "code",
   "execution_count": 31,
   "metadata": {},
   "outputs": [
    {
     "name": "stdout",
     "output_type": "stream",
     "text": [
      "[('esporte_lazer', 171.64131082715977, 3826.8, 0.09), ('cama_mesa_banho', 156.01225523604552, 1861.26, 0.1), ('automotivo', 204.26545900085574, 2480.58, 0.22), ('brinquedos', 137.46042943743566, 1504.61, 0.16), ('relogios_presentes', 253.673156520013, 2734.66, 0.27), ('malas_acessorios', 187.80000068284758, 1328.08, 0.39), ('perfumaria', 167.77084282303824, 776.5, 0.28), ('moveis_decoracao', 161.7163188374752, 1859.1, 0.28), ('informatica_acessorios', 195.73441416012537, 3009.53, 0.05), ('bebes', 157.26922179547017, 2384.5, 3.68), ('papelaria', 122.7042915769104, 1221.28, 1.26), ('utilidades_domesticas', 138.04726664065782, 1861.26, 0.01), ('cool_stuff', 198.3559832249889, 2627.09, 2.34), ('beleza_saude', 188.85532844517311, 2828.42, 0.67), ('climatizacao', 373.73065217633115, 1642.54, 27.4), ('construcao_ferramentas_ferramentas', 227.5137905252391, 1930.34, 30.73), ('construcao_ferramentas_jardim', 208.90194816059537, 1768.4, 9.11), ('pcs', 1179.4122923404798, 2732.06, 67.83), ('pet_shop', 164.02687402813467, 1728.81, 0.26), (None, 173.4132608955416, 2083.09, 5.06), ('livros_tecnicos', 115.58169165391189, 378.63, 22.34), ('moveis_escritorio', 330.267377355729, 1097.7, 6.21), ('eletronicos', 75.06847268736836, 1655.6, 1.62), ('consoles_games', 245.07077531556826, 3256.14, 4.16), ('livros_importados', 111.06692108741173, 188.92, 30.38), ('eletroportateis', 335.830879369548, 4950.34, 25.1), ('eletrodomesticos', 90.88895734649827, 1368.11, 0.52), ('telefonia', 115.97512112499275, 1549.41, 0.34), ('fashion_bolsas_e_acessorios', 105.21529969143133, 2207.98, 0.31), ('moveis_cozinha_area_de_servico_jantar_e_jardim', 277.6702388625547, 1079.75, 9.77), ('moveis_sala', 274.49028998999285, 2091.33, 7.09), ('livros_interesse_geral', 117.75318355109562, 703.1, 3.36), ('audio', 122.73198516132267, 477.61, 5.34), ('construcao_ferramentas_iluminacao', 289.2510137005129, 1768.4, 1.48), ('agro_industria_e_comercio', 520.133701607033, 2467.33, 17.61), ('casa_construcao', 231.69111069765958, 1206.34, 23.17), ('instrumentos_musicais', 389.66153917651206, 4513.32, 4.68), ('casa_conforto', 203.30835571027782, 619.93, 11.96), ('fashion_roupa_masculina', 116.9835856455677, 414.45, 14.42), ('market_place', 193.22397900305012, 1349.05, 1.22), ('construcao_ferramentas_construcao', 283.4580872837766, 2337.4, 2.74), ('sinalizacao_e_seguranca', 453.8327733303638, 3242.84, 15.77), ('ferramentas_jardim', 208.26212934163308, 2751.24, 0.54), ('fashion_roupa_feminina', 101.42866719563803, 171.69, 30.86), ('alimentos', 91.85179485011305, 257.45, 5.69), ('fashion_calcados', 123.75219762456287, 385.63, 2.74), ('eletrodomesticos_2', 730.7860772496178, 2455.12, 29.47), ('musica', 158.4022216796875, 322.17, 39.42), ('construcao_ferramentas_seguranca', 386.4892305227426, 2133.69, 25.0), ('alimentos_bebidas', 106.3041373285754, 720.77, 21.85), ('portateis_casa_forno_e_cafe', 699.847952113432, 1012.9, 48.31), ('telefonia_fixa', 172.31999904087613, 1372.22, 22.42), ('fashion_underwear_e_moda_praia', 101.8668749332428, 398.06, 3.13), ('artigos_de_natal', 170.9946660041809, 931.62, 3.75), ('dvds_blu_ray', 110.94684269553737, 719.65, 28.01), ('artigos_de_festas', 149.32750272750854, 417.23, 29.92), ('industria_comercio_e_negocios', 192.03437584638596, 1243.62, 44.01), ('bebidas', 105.36672265650863, 441.5, 21.85), ('artes', 89.21942898886545, 276.48, 8.95), ('cine_foto', 84.24299980401993, 212.82, 3.86), ('fraldas_higiene', 88.74800033569336, 150.99, 38.29), ('artes_e_artesanato', 109.79166475931804, 145.7, 41.13), ('la_cuisine', 192.16000213623047, 299.54, 55.18), ('moveis_quarto', 275.83631696199114, 546.55, 103.76), ('moveis_colchao_e_estofado', 190.7527285489169, 482.69, 70.83), ('tablets_impressao_imagem', 206.22199535369873, 912.79, 10.7), ('portateis_cozinha_e_preparadores_de_alimentos', 657.8120162963867, 1139.17, 50.24), ('fashion_esporte', 70.28727306019177, 171.69, 39.09), ('casa_conforto_2', 48.84857182275681, 122.97, 10.71), ('flores', 83.01666641235352, 227.63, 30.29), ('pc_gamer', 249.4199981689453, 249.42, 249.42)]\n"
     ]
    }
   ],
   "source": [
    "#Q4)\n",
    "db_cursor.execute(\"\"\"SELECT PRODUCTS.product_category_name AS Category, AVG(payment_value) AS Average, MAX(payment_value) AS max, MIN(payment_value) AS min\n",
    "FROM ORDER_PAYMENTS NATURAL join PRODUCTS natural join ORDER_ITEMS\n",
    "WHERE payment_type = 'credit_card' \n",
    "GROUP BY product_category_name\n",
    "HAVING count(*) > 0;\n",
    " \"\"\")\n",
    "\n",
    "son = db_cursor.fetchall()\n",
    "print(son)\n",
    "\n",
    "\n"
   ]
  },
  {
   "cell_type": "code",
   "execution_count": 33,
   "metadata": {},
   "outputs": [],
   "source": [
    "#Q5)\n",
    "monthly_query = \"\"\" CREATE TABLE MONTHLY AS(\n",
    "                    SELECT order_id as id, MONTH(order_purchase_timestamp) as month\n",
    "FROM ORDERS\n",
    "ORDER BY MONTH(order_purchase_timestamp) ASC);\n",
    "                \"\"\"\n",
    "\n",
    "db_cursor.execute(monthly_query)"
   ]
  },
  {
   "cell_type": "code",
   "execution_count": null,
   "metadata": {},
   "outputs": [],
   "source": [
    "db_cursor.execute(\"\"\"\n",
    "SELECT product_id as id, SUM(qty) AS TotalQuantity \n",
    "FROM ps_ecommerce.MONTHLY natural join quantity\n",
    "WHERE month = '1'\n",
    "GROUP BY product_id;\n",
    " \"\"\")\n",
    "\n",
    "ay1 = db_cursor.fetchall()\n",
    "print(ay1)\n",
    "\n",
    "\n"
   ]
  },
  {
   "cell_type": "code",
   "execution_count": null,
   "metadata": {},
   "outputs": [],
   "source": [
    "db_cursor.execute(\"\"\"\n",
    "SELECT product_id as id, SUM(qty) AS TotalQuantity \n",
    "FROM ps_ecommerce.MONTHLY natural join quantity\n",
    "WHERE month = '2'\n",
    "GROUP BY product_id;\n",
    " \"\"\")\n",
    "\n",
    "ay2 = db_cursor.fetchall()\n",
    "print(ay2)"
   ]
  },
  {
   "cell_type": "code",
   "execution_count": null,
   "metadata": {},
   "outputs": [],
   "source": [
    "db_cursor.execute(\"\"\"\n",
    "SELECT product_id as id, SUM(qty) AS TotalQuantity \n",
    "FROM ps_ecommerce.MONTHLY natural join quantity\n",
    "WHERE month = '3'\n",
    "GROUP BY product_id;\n",
    " \"\"\")\n",
    "\n",
    "ay3 = db_cursor.fetchall()\n",
    "print(ay3)"
   ]
  },
  {
   "cell_type": "code",
   "execution_count": null,
   "metadata": {},
   "outputs": [],
   "source": [
    "db_cursor.execute(\"\"\"\n",
    "SELECT product_id as id, SUM(qty) AS TotalQuantity \n",
    "FROM ps_ecommerce.MONTHLY natural join quantity\n",
    "WHERE month = '4'\n",
    "GROUP BY product_id;\n",
    " \"\"\")\n",
    "\n",
    "ay4 = db_cursor.fetchall()\n",
    "print(ay4)"
   ]
  },
  {
   "cell_type": "code",
   "execution_count": null,
   "metadata": {},
   "outputs": [],
   "source": [
    "db_cursor.execute(\"\"\"\n",
    "SELECT product_id as id, SUM(qty) AS TotalQuantity \n",
    "FROM ps_ecommerce.MONTHLY natural join quantity\n",
    "WHERE month = '5'\n",
    "GROUP BY product_id;\n",
    " \"\"\")\n",
    "\n",
    "ay5 = db_cursor.fetchall()\n",
    "print(ay5)"
   ]
  },
  {
   "cell_type": "code",
   "execution_count": null,
   "metadata": {},
   "outputs": [],
   "source": [
    "db_cursor.execute(\"\"\"\n",
    "SELECT product_id as id, SUM(qty) AS TotalQuantity \n",
    "FROM ps_ecommerce.MONTHLY natural join quantity\n",
    "WHERE month = '6'\n",
    "GROUP BY product_id;\n",
    " \"\"\")\n",
    "\n",
    "ay6 = db_cursor.fetchall()\n",
    "print(ay6)"
   ]
  },
  {
   "cell_type": "code",
   "execution_count": null,
   "metadata": {},
   "outputs": [],
   "source": [
    "db_cursor.execute(\"\"\"\n",
    "SELECT product_id as id, SUM(qty) AS TotalQuantity \n",
    "FROM ps_ecommerce.MONTHLY natural join quantity\n",
    "WHERE month = '7'\n",
    "GROUP BY product_id;\n",
    " \"\"\")\n",
    "\n",
    "ay7 = db_cursor.fetchall()\n",
    "print(ay7)"
   ]
  },
  {
   "cell_type": "code",
   "execution_count": null,
   "metadata": {},
   "outputs": [],
   "source": [
    "db_cursor.execute(\"\"\"\n",
    "SELECT product_id as id, SUM(qty) AS TotalQuantity \n",
    "FROM ps_ecommerce.MONTHLY natural join quantity\n",
    "WHERE month = '8'\n",
    "GROUP BY product_id;\n",
    " \"\"\")\n",
    "\n",
    "ay8 = db_cursor.fetchall()\n",
    "print(ay8)"
   ]
  },
  {
   "cell_type": "code",
   "execution_count": null,
   "metadata": {},
   "outputs": [],
   "source": [
    "db_cursor.execute(\"\"\"\n",
    "SELECT product_id as id, SUM(qty) AS TotalQuantity \n",
    "FROM ps_ecommerce.MONTHLY natural join quantity\n",
    "WHERE month = '9'\n",
    "GROUP BY product_id;\n",
    " \"\"\")\n",
    "\n",
    "ay9 = db_cursor.fetchall()\n",
    "print(ay9)"
   ]
  },
  {
   "cell_type": "code",
   "execution_count": null,
   "metadata": {},
   "outputs": [],
   "source": [
    "db_cursor.execute(\"\"\"\n",
    "SELECT product_id as id, SUM(qty) AS TotalQuantity \n",
    "FROM ps_ecommerce.MONTHLY natural join quantity\n",
    "WHERE month = '10'\n",
    "GROUP BY product_id;\n",
    " \"\"\")\n",
    "\n",
    "ay10 = db_cursor.fetchall()\n",
    "print(ay10)"
   ]
  },
  {
   "cell_type": "code",
   "execution_count": null,
   "metadata": {},
   "outputs": [],
   "source": [
    "db_cursor.execute(\"\"\"\n",
    "SELECT product_id as id, SUM(qty) AS TotalQuantity \n",
    "FROM ps_ecommerce.MONTHLY natural join quantity\n",
    "WHERE month = '11'\n",
    "GROUP BY product_id;\n",
    " \"\"\")\n",
    "\n",
    "ay11 = db_cursor.fetchall()\n",
    "print(ay11)"
   ]
  },
  {
   "cell_type": "code",
   "execution_count": null,
   "metadata": {},
   "outputs": [],
   "source": [
    "\n",
    "db_cursor.execute(\"\"\"\n",
    "SELECT product_id as id, SUM(qty) AS TotalQuantity \n",
    "FROM ps_ecommerce.MONTHLY natural join quantity\n",
    "WHERE month = '12'\n",
    "GROUP BY product_id;\n",
    " \"\"\")\n",
    "\n",
    "ay12 = db_cursor.fetchall()\n",
    "print(ay12)"
   ]
  },
  {
   "cell_type": "code",
   "execution_count": 74,
   "metadata": {},
   "outputs": [],
   "source": [
    "db_cursor.close()\n",
    "db_connection.close()"
   ]
  },
  {
   "cell_type": "code",
   "execution_count": null,
   "metadata": {},
   "outputs": [],
   "source": [
    "\n",
    "\n"
   ]
  },
  {
   "cell_type": "code",
   "execution_count": null,
   "metadata": {},
   "outputs": [],
   "source": []
  }
 ],
 "metadata": {
  "kernelspec": {
   "display_name": "Python 3",
   "language": "python",
   "name": "python3"
  },
  "language_info": {
   "codemirror_mode": {
    "name": "ipython",
    "version": 3
   },
   "file_extension": ".py",
   "mimetype": "text/x-python",
   "name": "python",
   "nbconvert_exporter": "python",
   "pygments_lexer": "ipython3",
   "version": "3.8.5"
  }
 },
 "nbformat": 4,
 "nbformat_minor": 2
}
